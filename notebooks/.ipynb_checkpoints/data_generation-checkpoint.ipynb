{
 "cells": [
  {
   "cell_type": "markdown",
   "metadata": {},
   "source": [
    "# Data Generation and Class Balance Analysis\n",
    "\n",
    "This notebook helps you generate training data using ScannerS and analyze class balance.\n",
    "\n",
    "## Prerequisites:\n",
    "* ScannerS must be installed and built correctly\n",
    "* Model must be configured (from model_selection notebook)\n",
    "* Selected labels for classification must be set to 'ignore' in the model configuration"
   ]
  },
  {
   "cell_type": "code",
   "execution_count": 1,
   "metadata": {},
   "outputs": [],
   "source": [
    "import os\n",
    "import sys\n",
    "\n",
    "# Setup paths\n",
    "current_dir = os.path.abspath('')\n",
    "build_dir = os.path.dirname(os.path.dirname(current_dir))\n",
    "src_dir = os.path.join(os.path.dirname(current_dir), 'src')\n",
    "sys.path.append(src_dir)\n",
    "\n",
    "from utils.scanner_runner import ScannerRunner\n",
    "\n",
    "# Initialize scanner\n",
    "scanner = ScannerRunner()"
   ]
  },
  {
   "cell_type": "code",
   "execution_count": 2,
   "metadata": {},
   "outputs": [
    {
     "name": "stdout",
     "output_type": "stream",
     "text": [
      "Running scan for N2HDMDarkD.ini with 2 points...\n",
      "Scan failed: Scan failed with error: Command './N2HDM initial_scan.tsv --config example_input/N2HDMDarkD.ini scan -n 2' returned non-zero exit status 127.\n"
     ]
    },
    {
     "name": "stderr",
     "output_type": "stream",
     "text": [
      "/bin/sh: 1: ./N2HDM: not found\n"
     ]
    }
   ],
   "source": [
    "# Configure scan parameters\n",
    "model = \"N2HDMDarkD.ini\"  # Your selected model\n",
    "n_points = 2  # Number of points to generate\n",
    "output_file = \"initial_scan.tsv\"  # Output file name\n",
    "\n",
    "# Selected labels for classification\n",
    "target_labels = ['valid_BFB', 'valid_Uni', 'valid_STU', 'valid_Higgs']\n",
    "\n",
    "# Run scan\n",
    "print(f\"Running scan for {model} with {n_points} points...\")\n",
    "try:\n",
    "    output_path = scanner.run_scan(model, n_points, output_file)\n",
    "    print(f\"Scan completed. Output saved to: {output_path}\")\n",
    "except Exception as e:\n",
    "    print(f\"Scan failed: {e}\")"
   ]
  },
  {
   "cell_type": "code",
   "execution_count": null,
   "metadata": {},
   "outputs": [],
   "source": [
    "# Analyze class balance\n",
    "stats = scanner.analyze_class_balance(output_file, target_labels)\n",
    "\n",
    "# Plot distributions\n",
    "scanner.plot_class_distribution(stats, \"Initial Scan Class Distribution\")\n",
    "\n",
    "# Get recommendations\n",
    "recommendations = scanner.recommend_additional_scans(stats)\n",
    "if recommendations:\n",
    "    print(\"\\nRecommendations for additional scans:\")\n",
    "    for rec in recommendations:\n",
    "        print(f\"- {rec}\")\n",
    "else:\n",
    "    print(\"\\nClass balance looks good! No additional scans needed.\")"
   ]
  }
 ],
 "metadata": {
  "kernelspec": {
   "display_name": "Python 3 (ipykernel)",
   "language": "python",
   "name": "python3"
  },
  "language_info": {
   "codemirror_mode": {
    "name": "ipython",
    "version": 3
   },
   "file_extension": ".py",
   "mimetype": "text/x-python",
   "name": "python",
   "nbconvert_exporter": "python",
   "pygments_lexer": "ipython3",
   "version": "3.10.12"
  }
 },
 "nbformat": 4,
 "nbformat_minor": 4
}
