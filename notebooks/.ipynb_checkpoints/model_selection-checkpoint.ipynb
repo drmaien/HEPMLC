{
 "cells": [
  {
   "cell_type": "markdown",
   "metadata": {},
   "source": [
    "# Model Selection and Configuration\n",
    "\n",
    "This notebook helps you select and configure a physics model from ScannerS for machine learning.\n",
    "\n",
    "## Prerequisites:\n",
    "* ScannerS must be installed and built correctly\n",
    "* This tool should be placed in the ScannerS build folder"
   ]
  },
  {
   "cell_type": "code",
   "execution_count": 3,
   "metadata": {},
   "outputs": [
    {
     "name": "stdout",
     "output_type": "stream",
     "text": [
      "Scanner path set to: /home/maien/work/ScannerS-master/build/example_input\n",
      "Available Models in ScannerS:\n",
      "--------------------------------------------------\n",
      "\n",
      "All files in directory: ['CxSMDark.ini', 'C2HDM_FL.ini', 'CPVDM.ini', 'N2HDMDarkS_T1.ini', 'TRSMBroken.ini', 'C2HDM_LS.ini', 'N2HDMBroken_T2.ini', 'N2HDMDarkD.ini', 'N2HDMDarkSD.ini', 'C2HDM_T2.ini', 'R2HDM_T1.ini', 'R2HDM_LS.ini', 'R2HDM_T2.ini', 'R2HDM_FL.ini', 'C2HDM_T1.ini', 'CxSMBroken.ini']\n",
      "\n",
      "All .ini files: ['CxSMDark.ini', 'C2HDM_FL.ini', 'CPVDM.ini', 'N2HDMDarkS_T1.ini', 'TRSMBroken.ini', 'C2HDM_LS.ini', 'N2HDMBroken_T2.ini', 'N2HDMDarkD.ini', 'N2HDMDarkSD.ini', 'C2HDM_T2.ini', 'R2HDM_T1.ini', 'R2HDM_LS.ini', 'R2HDM_T2.ini', 'R2HDM_FL.ini', 'C2HDM_T1.ini', 'CxSMBroken.ini']\n",
      "\n",
      "Our dictionary contains: ['N2HDMDarkSD.ini', 'R2HDM_T1.ini', 'C2HDM_T1.ini', 'C2HDM_T2.ini', 'N2HDMDarkD.ini', 'N2HDMDarkS_T1.ini', 'C2HDM_FL.ini', 'C2HDM_LS.ini', 'CPVDM.ini', 'CxSMBroken.ini', 'CxSMDark.ini', 'N2HDMBroken_T2.ini', 'R2HDM_FL.ini', 'R2HDM_LS.ini', 'R2HDM_T2.ini', 'TRSMBroken.ini']\n",
      "\n",
      "Matching analysis:\n",
      "Match: CxSMDark.ini\n",
      "Match: C2HDM_FL.ini\n",
      "Match: CPVDM.ini\n",
      "Match: N2HDMDarkS_T1.ini\n",
      "Match: TRSMBroken.ini\n",
      "Match: C2HDM_LS.ini\n",
      "Match: N2HDMBroken_T2.ini\n",
      "Match: N2HDMDarkD.ini\n",
      "Match: N2HDMDarkSD.ini\n",
      "Match: C2HDM_T2.ini\n",
      "Match: R2HDM_T1.ini\n",
      "Match: R2HDM_LS.ini\n",
      "Match: R2HDM_T2.ini\n",
      "Match: R2HDM_FL.ini\n",
      "Match: C2HDM_T1.ini\n",
      "Match: CxSMBroken.ini\n",
      "Complex Singlet Dark (CxSMDark.ini)\n",
      "Complex 2HDM Flipped (C2HDM_FL.ini)\n",
      "CP-Violating Dark Matter (CPVDM.ini)\n",
      "N2HDM Dark S Type 1 (N2HDMDarkS_T1.ini)\n",
      "TRSM Broken Phase (TRSMBroken.ini)\n",
      "Complex 2HDM Lepton Specific (C2HDM_LS.ini)\n",
      "N2HDM Broken Type 2 (N2HDMBroken_T2.ini)\n",
      "N2HDM Dark D (N2HDMDarkD.ini)\n",
      "N2HDM Dark SD (N2HDMDarkSD.ini)\n",
      "Complex 2HDM Type 2 (C2HDM_T2.ini)\n",
      "Real 2HDM Type 1 (R2HDM_T1.ini)\n",
      "Real 2HDM Lepton Specific (R2HDM_LS.ini)\n",
      "Real 2HDM Type 2 (R2HDM_T2.ini)\n",
      "Real 2HDM Flipped (R2HDM_FL.ini)\n",
      "Complex 2HDM Type 1 (C2HDM_T1.ini)\n",
      "Complex Singlet Broken Phase (CxSMBroken.ini)\n"
     ]
    }
   ],
   "source": [
    "# First cell in notebook\n",
    "import os\n",
    "import sys\n",
    "\n",
    "# Get absolute path to build/example_input\n",
    "current_dir = os.path.abspath('')  # Get current directory (notebooks)\n",
    "build_dir = os.path.dirname(os.path.dirname(current_dir))  # Go up twice to reach build\n",
    "example_input_dir = os.path.join(build_dir, 'example_input')\n",
    "\n",
    "# Add src to path\n",
    "src_dir = os.path.join(os.path.dirname(current_dir), 'src')\n",
    "sys.path.append(src_dir)\n",
    "\n",
    "from utils.model_reader import ModelReader\n",
    "\n",
    "# Initialize ModelReader with explicit path\n",
    "reader = ModelReader(scanner_path=example_input_dir)\n",
    "\n",
    "# Display available models\n",
    "print(\"Available Models in ScannerS:\")\n",
    "print(\"-\" * 50)\n",
    "for ini_file, clear_name in reader.get_available_models().items():\n",
    "    print(f\"{clear_name} ({ini_file})\")"
   ]
  },
  {
   "cell_type": "code",
   "execution_count": null,
   "metadata": {},
   "outputs": [],
   "source": [
    "selected_model = \"N2HDMDarkSD.ini\"  # Change this to your chosen model\n",
    "\n",
    "features, constraints = reader.read_model(selected_model)\n",
    "\n",
    "print(\"\\nFeatures and their ranges:\")\n",
    "for feature, range_info in features.items():\n",
    "    print(f\"- {feature}: [{range_info['min']}, {range_info['max']}]\")\n",
    "\n",
    "print(\"\\nConstraints and their current settings:\")\n",
    "for constraint, value in constraints.items():\n",
    "    print(f\"- {constraint}: {value}\")"
   ]
  },
  {
   "cell_type": "code",
   "execution_count": null,
   "metadata": {},
   "outputs": [],
   "source": [
    "def update_constraint_setting(model, constraint, value):\n",
    "    reader.update_constraint(model, constraint, value)\n",
    "    _, new_constraints = reader.read_model(model)\n",
    "    print(f\"Updated constraints for {model}:\")\n",
    "    for c, v in new_constraints.items():\n",
    "        print(f\"- {c}: {v}\")\n",
    "\n",
    "# Example: update_constraint_setting(selected_model, \"BfB\", \"ignore\")"
   ]
  },
  {
   "cell_type": "code",
   "execution_count": null,
   "metadata": {},
   "outputs": [],
   "source": [
    "def update_feature_range(model, feature, min_val, max_val):\n",
    "    reader.update_feature_range(model, feature, min_val, max_val)\n",
    "    new_features, _ = reader.read_model(model)\n",
    "    print(f\"Updated range for {feature} in {model}:\")\n",
    "    print(f\"[{new_features[feature]['min']}, {new_features[feature]['max']}]\")\n",
    "\n",
    "# Example: update_feature_range(selected_model, \"mHb\", 50, 1000)"
   ]
  }
 ],
 "metadata": {
  "kernelspec": {
   "display_name": "Python 3 (ipykernel)",
   "language": "python",
   "name": "python3"
  },
  "language_info": {
   "codemirror_mode": {
    "name": "ipython",
    "version": 3
   },
   "file_extension": ".py",
   "mimetype": "text/x-python",
   "name": "python",
   "nbconvert_exporter": "python",
   "pygments_lexer": "ipython3",
   "version": "3.10.12"
  }
 },
 "nbformat": 4,
 "nbformat_minor": 4
}
