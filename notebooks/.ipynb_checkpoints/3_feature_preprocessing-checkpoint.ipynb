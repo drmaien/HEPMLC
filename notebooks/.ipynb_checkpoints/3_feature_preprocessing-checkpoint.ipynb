{
 "cells": [
  {
   "cell_type": "markdown",
   "metadata": {},
   "source": [
    "# Feature Preprocessing\n",
    "\n",
    "Apply and save feature transformations for model training."
   ]
  },
  {
   "cell_type": "code",
   "execution_count": 1,
   "metadata": {},
   "outputs": [],
   "source": [
    "import sys\n",
    "import os\n",
    "from pathlib import Path\n",
    "\n",
    "# Get the absolute path to the build directory\n",
    "notebook_dir = Path(os.path.abspath('')).parent\n",
    "build_dir = notebook_dir.parent\n",
    "\n",
    "# Add src to path\n",
    "sys.path.append(str(notebook_dir))\n",
    "\n",
    "import pandas as pd\n",
    "import numpy as np\n",
    "from src.preprocessing.preprocessor import FeaturePreprocessor"
   ]
  },
  {
   "cell_type": "code",
   "execution_count": 2,
   "metadata": {},
   "outputs": [],
   "source": [
    "# Load the splits\n",
    "splits_dir = os.path.join(build_dir, 'data_splits')\n",
    "\n",
    "# Load training data (we fit preprocessor only on training data)\n",
    "train_data = pd.read_csv(os.path.join(splits_dir, 'train_set.tsv'), sep='\\t')\n",
    "\n",
    "# Define features\n",
    "feature_cols = ['mH2', 'mHD', 'mAD', 'mHDp', 'alpha', 'L2', 'L8', 'vs', 'm22sq']\n",
    "X_train = train_data[feature_cols]"
   ]
  },
  {
   "cell_type": "code",
   "execution_count": 3,
   "metadata": {},
   "outputs": [
    {
     "name": "stdout",
     "output_type": "stream",
     "text": [
      "Original Data Statistics:\n",
      "                mH2           mHD           mAD          mHDp         alpha  \\\n",
      "count  81298.000000  81298.000000  81298.000000  81298.000000  81298.000000   \n",
      "mean     756.116787    696.081561    694.813204    843.290329     -0.012395   \n",
      "std      396.567008    380.291064    379.271306    356.407160      0.590349   \n",
      "min      125.098308      1.201244      1.011494      5.091194     -1.570259   \n",
      "25%      408.405833    399.826236    399.305965    561.508174     -0.204915   \n",
      "50%      725.630913    664.080251    662.258240    814.770169     -0.007623   \n",
      "75%     1091.444487    980.967621    978.983405   1142.121298      0.185137   \n",
      "max     1499.957514   1499.950285   1499.989430   1499.992267      1.570347   \n",
      "\n",
      "                 L2            L8            vs          m22sq  \n",
      "count  81298.000000  81298.000000  81298.000000   81298.000000  \n",
      "mean       6.954888      1.809151    499.960266  233773.526880  \n",
      "std        5.573781     11.035877    381.849480  143639.857164  \n",
      "min        0.000024    -29.999255      1.010577       2.097307  \n",
      "25%        2.506567     -1.840589    197.333584  108232.191483  \n",
      "50%        5.244693      0.864577    395.300863  225521.747696  \n",
      "75%       10.720149      6.606647    726.322206  354606.877132  \n",
      "max       19.999611     29.999397   1499.991247  499995.481045  \n",
      "\n",
      "After Yeo-Johnson:\n",
      "                mH2           mHD           mAD          mHDp         alpha  \\\n",
      "count  8.129800e+04  8.129800e+04  8.129800e+04  8.129800e+04  8.129800e+04   \n",
      "mean  -2.417478e-16 -1.258557e-17 -1.625636e-16 -5.689726e-16 -2.324834e-17   \n",
      "std    1.000006e+00  1.000006e+00  1.000006e+00  1.000006e+00  1.000006e+00   \n",
      "min   -1.918660e+00 -2.430553e+00 -2.436704e+00 -2.916197e+00 -2.663350e+00   \n",
      "25%   -8.228635e-01 -7.086932e-01 -7.090275e-01 -7.575253e-01 -3.222483e-01   \n",
      "50%    4.698763e-02  1.801197e-02  1.627966e-02 -2.529761e-02  1.257873e-02   \n",
      "75%    8.645548e-01  7.741790e-01  7.743605e-01  8.455893e-01  3.385138e-01   \n",
      "max    1.648276e+00  1.859825e+00  1.866996e+00  1.732233e+00  2.656363e+00   \n",
      "\n",
      "                 L2            L8            vs         m22sq  \n",
      "count  8.129800e+04  8.129800e+04  8.129800e+04  8.129800e+04  \n",
      "mean   6.170425e-17 -1.616896e-17 -1.019518e-16 -9.710116e-17  \n",
      "std    1.000006e+00  1.000006e+00  1.000006e+00  1.000006e+00  \n",
      "min   -2.096138e+00 -2.758538e+00 -2.641561e+00 -2.257281e+00  \n",
      "25%   -7.458222e-01 -3.523794e-01 -7.094285e-01 -7.846759e-01  \n",
      "50%   -2.534203e-02 -1.102527e-01 -2.016696e-02  8.040254e-02  \n",
      "75%    8.422352e-01  4.220303e-01  7.478954e-01  8.506622e-01  \n",
      "max    1.729626e+00  2.651004e+00  1.920873e+00  1.600658e+00  \n",
      "\n",
      "After Scaling:\n",
      "                mH2           mHD           mAD          mHDp         alpha  \\\n",
      "count  8.129800e+04  8.129800e+04  8.129800e+04  8.129800e+04  8.129800e+04   \n",
      "mean  -1.608156e-17 -1.153677e-17  2.403494e-18  2.569554e-17 -1.459576e-17   \n",
      "std    1.000006e+00  1.000006e+00  1.000006e+00  1.000006e+00  1.000006e+00   \n",
      "min   -1.918660e+00 -2.430553e+00 -2.436704e+00 -2.916197e+00 -2.663350e+00   \n",
      "25%   -8.228635e-01 -7.086932e-01 -7.090275e-01 -7.575253e-01 -3.222483e-01   \n",
      "50%    4.698763e-02  1.801197e-02  1.627966e-02 -2.529761e-02  1.257873e-02   \n",
      "75%    8.645548e-01  7.741790e-01  7.743605e-01  8.455893e-01  3.385138e-01   \n",
      "max    1.648276e+00  1.859825e+00  1.866996e+00  1.732233e+00  2.656363e+00   \n",
      "\n",
      "                 L2            L8            vs         m22sq  \n",
      "count  8.129800e+04  8.129800e+04  8.129800e+04  8.129800e+04  \n",
      "mean   1.538236e-17 -8.914778e-18 -3.220682e-17 -3.417331e-17  \n",
      "std    1.000006e+00  1.000006e+00  1.000006e+00  1.000006e+00  \n",
      "min   -2.096138e+00 -2.758538e+00 -2.641561e+00 -2.257281e+00  \n",
      "25%   -7.458222e-01 -3.523794e-01 -7.094285e-01 -7.846759e-01  \n",
      "50%   -2.534203e-02 -1.102527e-01 -2.016696e-02  8.040254e-02  \n",
      "75%    8.422352e-01  4.220303e-01  7.478954e-01  8.506622e-01  \n",
      "max    1.729626e+00  2.651004e+00  1.920873e+00  1.600658e+00  \n"
     ]
    },
    {
     "name": "stderr",
     "output_type": "stream",
     "text": [
      "/home/maien/.local/lib/python3.10/site-packages/sklearn/base.py:486: UserWarning: X has feature names, but StandardScaler was fitted without feature names\n",
      "  warnings.warn(\n"
     ]
    }
   ],
   "source": [
    "# Initialize and fit preprocessor\n",
    "preprocessor = FeaturePreprocessor(apply_yj=True, apply_scaler=True)\n",
    "X_train_processed = preprocessor.fit_transform(X_train)\n",
    "\n",
    "# Look at the effects of preprocessing\n",
    "stats = preprocessor.describe_transformations(X_train)\n",
    "\n",
    "print(\"Original Data Statistics:\")\n",
    "print(stats['original'])\n",
    "print(\"\\nAfter Yeo-Johnson:\")\n",
    "print(stats['after_yj'])\n",
    "print(\"\\nAfter Scaling:\")\n",
    "print(stats['after_scaling'])"
   ]
  },
  {
   "cell_type": "code",
   "execution_count": 4,
   "metadata": {},
   "outputs": [
    {
     "name": "stdout",
     "output_type": "stream",
     "text": [
      "Saved preprocessor to /home/maien/work/ScannerS-master/build/preprocessor\n"
     ]
    }
   ],
   "source": [
    "# Save the preprocessor\n",
    "preprocessor_dir = os.path.join(build_dir, 'preprocessor')\n",
    "preprocessor.save_transformers(preprocessor_dir)\n",
    "print(f\"Saved preprocessor to {preprocessor_dir}\")"
   ]
  },
  {
   "cell_type": "code",
   "execution_count": 5,
   "metadata": {},
   "outputs": [
    {
     "name": "stdout",
     "output_type": "stream",
     "text": [
      "Validation set statistics after preprocessing:\n",
      "                mH2           mHD           mAD          mHDp         alpha  \\\n",
      "count  17421.000000  17421.000000  17421.000000  17421.000000  17421.000000   \n",
      "mean       0.008537      0.000182      0.006776      0.010591     -0.004821   \n",
      "std        1.000533      1.002813      0.998217      1.003741      0.993972   \n",
      "min       -1.918485     -2.432998     -2.429876     -2.890977     -2.663512   \n",
      "25%       -0.808887     -0.708749     -0.706885     -0.758927     -0.321349   \n",
      "50%        0.066824      0.014774      0.013272     -0.009883      0.016370   \n",
      "75%        0.869955      0.771323      0.775250      0.869012      0.332269   \n",
      "max        1.648301      1.859613      1.865832      1.732041      2.656103   \n",
      "\n",
      "                 L2            L8            vs         m22sq  \n",
      "count  17421.000000  17421.000000  17421.000000  17421.000000  \n",
      "mean       0.000207      0.015253      0.003122      0.010594  \n",
      "std        0.998872      1.004136      0.992185      0.999147  \n",
      "min       -2.095856     -2.758423     -2.640325     -2.240694  \n",
      "25%       -0.744750     -0.341849     -0.698663     -0.774391  \n",
      "50%       -0.021354     -0.103869     -0.018593      0.089512  \n",
      "75%        0.838638      0.448656      0.754416      0.873146  \n",
      "max        1.729358      2.650310      1.920856      1.600674  \n"
     ]
    }
   ],
   "source": [
    "# Test loading and applying to validation data\n",
    "val_data = pd.read_csv(os.path.join(splits_dir, 'val_set.tsv'), sep='\\t')\n",
    "X_val = val_data[feature_cols]\n",
    "\n",
    "# Load preprocessor and transform validation data\n",
    "loaded_preprocessor = FeaturePreprocessor.load_transformers(preprocessor_dir)\n",
    "X_val_processed = loaded_preprocessor.transform(X_val)\n",
    "\n",
    "print(\"Validation set statistics after preprocessing:\")\n",
    "print(pd.DataFrame(X_val_processed, columns=feature_cols).describe())"
   ]
  },
  {
   "cell_type": "code",
   "execution_count": null,
   "metadata": {},
   "outputs": [],
   "source": []
  }
 ],
 "metadata": {
  "kernelspec": {
   "display_name": "Python 3 (ipykernel)",
   "language": "python",
   "name": "python3"
  },
  "language_info": {
   "codemirror_mode": {
    "name": "ipython",
    "version": 3
   },
   "file_extension": ".py",
   "mimetype": "text/x-python",
   "name": "python",
   "nbconvert_exporter": "python",
   "pygments_lexer": "ipython3",
   "version": "3.10.12"
  }
 },
 "nbformat": 4,
 "nbformat_minor": 4
}
