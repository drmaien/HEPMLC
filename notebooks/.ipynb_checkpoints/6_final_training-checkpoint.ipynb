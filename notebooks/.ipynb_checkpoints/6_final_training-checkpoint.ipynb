{
 "cells": [
  {
   "cell_type": "markdown",
   "metadata": {},
   "source": [
    "# Final Model Training and Evaluation\n",
    "\n",
    "Train the final model using the best hyperparameters from Optuna optimization."
   ]
  },
  {
   "cell_type": "code",
   "execution_count": null,
   "metadata": {},
   "outputs": [],
   "source": [
    "import sys\n",
    "import os\n",
    "from pathlib import Path\n",
    "import json\n",
    "\n",
    "# Setup paths\n",
    "notebook_dir = Path(os.path.abspath('')).parent\n",
    "build_dir = notebook_dir.parent\n",
    "sys.path.append(str(notebook_dir))\n",
    "\n",
    "import pandas as pd\n",
    "import numpy as np\n",
    "from src.modeling.architecture import ModelBuilder\n",
    "from src.modeling.trainer import ModelTrainer\n",
    "from src.preprocessing.preprocessor import FeaturePreprocessor"
   ]
  },
  {
   "cell_type": "code",
   "execution_count": null,
   "metadata": {},
   "outputs": [],
   "source": [
    "# Load best parameters from Optuna\n",
    "with open(os.path.join(build_dir, 'optuna_results/best_parameters.json'), 'r') as f:\n",
    "    best_params = json.load(f)\n",
    "\n",
    "print(\"Best parameters:\")\n",
    "for key, value in best_params.items():\n",
    "    print(f\"{key}: {value}\")"
   ]
  },
  {
   "cell_type": "code",
   "execution_count": null,
   "metadata": {},
   "outputs": [],
   "source": [
    "# Load and preprocess data\n",
    "feature_cols = ['mH2', 'mHD', 'mAD', 'mHDp', 'alpha', 'L2', 'L8', 'vs', 'm22sq']\n",
    "label_cols = ['valid_BFB', 'valid_Uni', 'valid_STU', 'valid_Higgs']\n",
    "\n",
    "# Load preprocessor\n",
    "preprocessor = FeaturePreprocessor.load_transformers(\n",
    "    os.path.join(build_dir, 'preprocessor')\n",
    ")\n",
    "\n",
    "# Load all datasets\n",
    "train_data = pd.read_csv(os.path.join(build_dir, 'data_splits/train_set.tsv'), sep='\\t')\n",
    "val_data = pd.read_csv(os.path.join(build_dir, 'data_splits/val_set.tsv'), sep='\\t')\n",
    "test_data = pd.read_csv(os.path.join(build_dir, 'data_splits/test_set.tsv'), sep='\\t')\n",
    "\n",
    "# Preprocess all sets\n",
    "X_train = preprocessor.transform(train_data[feature_cols])\n",
    "y_train = train_data[label_cols]\n",
    "\n",
    "X_val = preprocessor.transform(val_data[feature_cols])\n",
    "y_val = val_data[label_cols]\n",
    "\n",
    "X_test = preprocessor.transform(test_data[feature_cols])\n",
    "y_test = test_data[label_cols]"
   ]
  },
  {
   "cell_type": "code",
   "execution_count": null,
   "metadata": {},
   "outputs": [],
   "source": [
    "# Initialize model builder\n",
    "builder = ModelBuilder(\n",
    "    input_shape=(len(feature_cols),),\n",
    "    num_outputs=len(label_cols)\n",
    ")\n",
    "\n",
    "# Initialize trainer\n",
    "trainer = ModelTrainer(\n",
    "    model_builder=builder,\n",
    "    feature_cols=feature_cols,\n",
    "    label_cols=label_cols,\n",
    "    output_dir=os.path.join(build_dir, 'final_model')\n",
    ")"
   ]
  },
  {
   "cell_type": "code",
   "execution_count": null,
   "metadata": {},
   "outputs": [],
   "source": [
    "# Train final model\n",
    "model = trainer.train(\n",
    "    X_train=X_train,\n",
    "    y_train=y_train,\n",
    "    X_val=X_val,\n",
    "    y_val=y_val,\n",
    "    params=best_params\n",
    ")"
   ]
  },
  {
   "cell_type": "code",
   "execution_count": null,
   "metadata": {},
   "outputs": [],
   "source": [
    "# Evaluate on test set\n",
    "trainer.evaluate(\n",
    "    model=model,\n",
    "    X_test=X_test,\n",
    "    y_test=y_test\n",
    ")"
   ]
  }
 ],
 "metadata": {
  "kernelspec": {
   "display_name": "Python 3 (ipykernel)",
   "language": "python",
   "name": "python3"
  },
  "language_info": {
   "codemirror_mode": {
    "name": "ipython",
    "version": 3
   },
   "file_extension": ".py",
   "mimetype": "text/x-python",
   "name": "python",
   "nbconvert_exporter": "python",
   "pygments_lexer": "ipython3",
   "version": "3.10.12"
  }
 },
 "nbformat": 4,
 "nbformat_minor": 4
}
