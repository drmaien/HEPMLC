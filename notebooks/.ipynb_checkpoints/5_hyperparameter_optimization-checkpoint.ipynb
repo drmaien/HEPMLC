{
 "cells": [
  {
   "cell_type": "markdown",
   "metadata": {},
   "source": [
    "# Hyperparameter Optimization with Optuna\n",
    "\n",
    "Optimize model architecture and training parameters."
   ]
  },
  {
   "cell_type": "code",
   "execution_count": 1,
   "metadata": {},
   "outputs": [
    {
     "name": "stderr",
     "output_type": "stream",
     "text": [
      "2025-01-15 18:10:22.567151: I tensorflow/tsl/cuda/cudart_stub.cc:28] Could not find cuda drivers on your machine, GPU will not be used.\n",
      "2025-01-15 18:10:22.603360: I tensorflow/tsl/cuda/cudart_stub.cc:28] Could not find cuda drivers on your machine, GPU will not be used.\n",
      "2025-01-15 18:10:22.604025: I tensorflow/core/platform/cpu_feature_guard.cc:182] This TensorFlow binary is optimized to use available CPU instructions in performance-critical operations.\n",
      "To enable the following instructions: AVX2 FMA, in other operations, rebuild TensorFlow with the appropriate compiler flags.\n",
      "2025-01-15 18:10:23.210269: W tensorflow/compiler/tf2tensorrt/utils/py_utils.cc:38] TF-TRT Warning: Could not find TensorRT\n"
     ]
    }
   ],
   "source": [
    "import sys\n",
    "import os\n",
    "from pathlib import Path\n",
    "\n",
    "# Setup paths\n",
    "notebook_dir = Path(os.path.abspath('')).parent\n",
    "build_dir = notebook_dir.parent\n",
    "sys.path.append(str(notebook_dir))\n",
    "\n",
    "import pandas as pd\n",
    "import numpy as np\n",
    "from src.modeling.architecture import ModelBuilder\n",
    "from src.preprocessing.preprocessor import FeaturePreprocessor\n",
    "from src.optimization.optuna_tuner import ModelOptimizer"
   ]
  },
  {
   "cell_type": "code",
   "execution_count": 2,
   "metadata": {},
   "outputs": [],
   "source": [
    "# Load and preprocess data\n",
    "feature_cols = ['mH2', 'mHD', 'mAD', 'mHDp', 'alpha', 'L2', 'L8', 'vs', 'm22sq']\n",
    "label_cols = ['valid_BFB', 'valid_Uni', 'valid_STU', 'valid_Higgs']\n",
    "\n",
    "# Load preprocessor\n",
    "preprocessor = FeaturePreprocessor.load_transformers(os.path.join(build_dir, 'preprocessor'))\n",
    "\n",
    "# Load and preprocess train/val sets\n",
    "train_data = pd.read_csv(os.path.join(build_dir, 'data_splits/train_set.tsv'), sep='\\t')\n",
    "val_data = pd.read_csv(os.path.join(build_dir, 'data_splits/val_set.tsv'), sep='\\t')\n",
    "\n",
    "X_train = preprocessor.transform(train_data[feature_cols])\n",
    "y_train = train_data[label_cols]\n",
    "\n",
    "X_val = preprocessor.transform(val_data[feature_cols])\n",
    "y_val = val_data[label_cols]"
   ]
  },
  {
   "cell_type": "code",
   "execution_count": 3,
   "metadata": {},
   "outputs": [],
   "source": [
    "# Initialize model builder\n",
    "builder = ModelBuilder(\n",
    "    input_shape=(len(feature_cols),),\n",
    "    num_outputs=len(label_cols)\n",
    ")\n",
    "\n",
    "# Set up optimizer\n",
    "optimizer = ModelOptimizer(\n",
    "    model_builder=builder,\n",
    "    X_train=X_train,\n",
    "    y_train=y_train,\n",
    "    X_val=X_val,\n",
    "    y_val=y_val,\n",
    "    output_dir=os.path.join(build_dir, 'optuna_results'),\n",
    "    n_trials=3  # Adjust based on your needs\n",
    ")"
   ]
  },
  {
   "cell_type": "code",
   "execution_count": null,
   "metadata": {},
   "outputs": [
    {
     "name": "stderr",
     "output_type": "stream",
     "text": [
      "[I 2025-01-15 18:10:32,943] A new study created in memory with name: model_optimization\n"
     ]
    },
    {
     "name": "stdout",
     "output_type": "stream",
     "text": [
      "Epoch 1/100\n"
     ]
    },
    {
     "name": "stderr",
     "output_type": "stream",
     "text": [
      "2025-01-15 18:10:32.963206: I tensorflow/compiler/xla/stream_executor/cuda/cuda_diagnostics.cc:168] retrieving CUDA diagnostic information for host: maienPC\n",
      "2025-01-15 18:10:32.963224: I tensorflow/compiler/xla/stream_executor/cuda/cuda_diagnostics.cc:175] hostname: maienPC\n",
      "2025-01-15 18:10:32.963349: I tensorflow/compiler/xla/stream_executor/cuda/cuda_diagnostics.cc:199] libcuda reported version is: NOT_FOUND: was unable to find libcuda.so DSO loaded into this program\n",
      "2025-01-15 18:10:32.963380: I tensorflow/compiler/xla/stream_executor/cuda/cuda_diagnostics.cc:203] kernel reported version is: 470.239.6\n"
     ]
    },
    {
     "name": "stdout",
     "output_type": "stream",
     "text": [
      "47/47 [==============================] - 6s 95ms/step - loss: 0.1236 - subset_accuracy: 0.3577 - hamming_loss: 0.2437 - matthews_correlation: 0.5049 - macro_f1_score: 0.7878 - val_loss: 0.0853 - val_subset_accuracy: 0.5351 - val_hamming_loss: 0.1448 - val_matthews_correlation: 0.7089 - val_macro_f1_score: 0.8815\n",
      "Epoch 2/100\n",
      "47/47 [==============================] - 5s 103ms/step - loss: 0.0879 - subset_accuracy: 0.5108 - hamming_loss: 0.1536 - matthews_correlation: 0.6881 - macro_f1_score: 0.8709 - val_loss: 0.0742 - val_subset_accuracy: 0.5803 - val_hamming_loss: 0.1254 - val_matthews_correlation: 0.7475 - val_macro_f1_score: 0.8956\n",
      "Epoch 3/100\n",
      "47/47 [==============================] - 4s 88ms/step - loss: 0.0795 - subset_accuracy: 0.5526 - hamming_loss: 0.1361 - matthews_correlation: 0.7238 - macro_f1_score: 0.8848 - val_loss: 0.0673 - val_subset_accuracy: 0.6172 - val_hamming_loss: 0.1119 - val_matthews_correlation: 0.7749 - val_macro_f1_score: 0.9063\n",
      "Epoch 4/100\n",
      "47/47 [==============================] - 4s 85ms/step - loss: 0.0733 - subset_accuracy: 0.5834 - hamming_loss: 0.1234 - matthews_correlation: 0.7496 - macro_f1_score: 0.8951 - val_loss: 0.0611 - val_subset_accuracy: 0.6531 - val_hamming_loss: 0.0993 - val_matthews_correlation: 0.8012 - val_macro_f1_score: 0.9173\n",
      "Epoch 5/100\n",
      "47/47 [==============================] - 4s 89ms/step - loss: 0.0678 - subset_accuracy: 0.6171 - hamming_loss: 0.1118 - matthews_correlation: 0.7733 - macro_f1_score: 0.9049 - val_loss: 0.0556 - val_subset_accuracy: 0.6845 - val_hamming_loss: 0.0892 - val_matthews_correlation: 0.8213 - val_macro_f1_score: 0.9249\n",
      "Epoch 6/100\n",
      "47/47 [==============================] - 4s 88ms/step - loss: 0.0631 - subset_accuracy: 0.6441 - hamming_loss: 0.1028 - matthews_correlation: 0.7916 - macro_f1_score: 0.9124 - val_loss: 0.0497 - val_subset_accuracy: 0.7250 - val_hamming_loss: 0.0768 - val_matthews_correlation: 0.8466 - val_macro_f1_score: 0.9356\n",
      "Epoch 7/100\n",
      "47/47 [==============================] - 4s 79ms/step - loss: 0.0591 - subset_accuracy: 0.6690 - hamming_loss: 0.0945 - matthews_correlation: 0.8086 - macro_f1_score: 0.9196 - val_loss: 0.0462 - val_subset_accuracy: 0.7496 - val_hamming_loss: 0.0691 - val_matthews_correlation: 0.8631 - val_macro_f1_score: 0.9425\n",
      "Epoch 8/100\n",
      "47/47 [==============================] - 4s 91ms/step - loss: 0.0564 - subset_accuracy: 0.6874 - hamming_loss: 0.0885 - matthews_correlation: 0.8210 - macro_f1_score: 0.9250 - val_loss: 0.0439 - val_subset_accuracy: 0.7637 - val_hamming_loss: 0.0646 - val_matthews_correlation: 0.8724 - val_macro_f1_score: 0.9464\n",
      "Epoch 9/100\n",
      "47/47 [==============================] - 5s 108ms/step - loss: 0.0540 - subset_accuracy: 0.7038 - hamming_loss: 0.0834 - matthews_correlation: 0.8314 - macro_f1_score: 0.9293 - val_loss: 0.0411 - val_subset_accuracy: 0.7752 - val_hamming_loss: 0.0612 - val_matthews_correlation: 0.8790 - val_macro_f1_score: 0.9490\n",
      "Epoch 10/100\n",
      "47/47 [==============================] - 4s 90ms/step - loss: 0.0519 - subset_accuracy: 0.7164 - hamming_loss: 0.0792 - matthews_correlation: 0.8400 - macro_f1_score: 0.9329 - val_loss: 0.0390 - val_subset_accuracy: 0.7888 - val_hamming_loss: 0.0572 - val_matthews_correlation: 0.8870 - val_macro_f1_score: 0.9523\n",
      "Epoch 11/100\n",
      "47/47 [==============================] - 4s 78ms/step - loss: 0.0501 - subset_accuracy: 0.7251 - hamming_loss: 0.0765 - matthews_correlation: 0.8454 - macro_f1_score: 0.9350 - val_loss: 0.0375 - val_subset_accuracy: 0.7961 - val_hamming_loss: 0.0550 - val_matthews_correlation: 0.8910 - val_macro_f1_score: 0.9539\n",
      "Epoch 12/100\n",
      "47/47 [==============================] - 4s 94ms/step - loss: 0.0484 - subset_accuracy: 0.7349 - hamming_loss: 0.0733 - matthews_correlation: 0.8518 - macro_f1_score: 0.9377 - val_loss: 0.0364 - val_subset_accuracy: 0.8016 - val_hamming_loss: 0.0534 - val_matthews_correlation: 0.8940 - val_macro_f1_score: 0.9551\n",
      "Epoch 13/100\n",
      "47/47 [==============================] - 4s 81ms/step - loss: 0.0472 - subset_accuracy: 0.7442 - hamming_loss: 0.0708 - matthews_correlation: 0.8569 - macro_f1_score: 0.9398 - val_loss: 0.0349 - val_subset_accuracy: 0.8075 - val_hamming_loss: 0.0518 - val_matthews_correlation: 0.8971 - val_macro_f1_score: 0.9564\n",
      "Epoch 14/100\n",
      "47/47 [==============================] - 4s 83ms/step - loss: 0.0457 - subset_accuracy: 0.7508 - hamming_loss: 0.0685 - matthews_correlation: 0.8614 - macro_f1_score: 0.9417 - val_loss: 0.0337 - val_subset_accuracy: 0.8156 - val_hamming_loss: 0.0495 - val_matthews_correlation: 0.9017 - val_macro_f1_score: 0.9584\n",
      "Epoch 15/100\n",
      "47/47 [==============================] - 4s 80ms/step - loss: 0.0448 - subset_accuracy: 0.7557 - hamming_loss: 0.0672 - matthews_correlation: 0.8641 - macro_f1_score: 0.9428 - val_loss: 0.0326 - val_subset_accuracy: 0.8264 - val_hamming_loss: 0.0464 - val_matthews_correlation: 0.9075 - val_macro_f1_score: 0.9608\n",
      "Epoch 16/100\n",
      "47/47 [==============================] - 4s 85ms/step - loss: 0.0438 - subset_accuracy: 0.7627 - hamming_loss: 0.0650 - matthews_correlation: 0.8685 - macro_f1_score: 0.9445 - val_loss: 0.0325 - val_subset_accuracy: 0.8205 - val_hamming_loss: 0.0479 - val_matthews_correlation: 0.9047 - val_macro_f1_score: 0.9597\n",
      "Epoch 17/100\n",
      "47/47 [==============================] - 4s 86ms/step - loss: 0.0427 - subset_accuracy: 0.7682 - hamming_loss: 0.0634 - matthews_correlation: 0.8719 - macro_f1_score: 0.9460 - val_loss: 0.0306 - val_subset_accuracy: 0.8369 - val_hamming_loss: 0.0434 - val_matthews_correlation: 0.9132 - val_macro_f1_score: 0.9632\n",
      "Epoch 18/100\n",
      "47/47 [==============================] - 4s 81ms/step - loss: 0.0420 - subset_accuracy: 0.7705 - hamming_loss: 0.0626 - matthews_correlation: 0.8733 - macro_f1_score: 0.9465 - val_loss: 0.0301 - val_subset_accuracy: 0.8381 - val_hamming_loss: 0.0430 - val_matthews_correlation: 0.9142 - val_macro_f1_score: 0.9636\n",
      "Epoch 19/100\n",
      "47/47 [==============================] - 4s 79ms/step - loss: 0.0409 - subset_accuracy: 0.7765 - hamming_loss: 0.0608 - matthews_correlation: 0.8769 - macro_f1_score: 0.9480 - val_loss: 0.0292 - val_subset_accuracy: 0.8428 - val_hamming_loss: 0.0417 - val_matthews_correlation: 0.9168 - val_macro_f1_score: 0.9647\n",
      "Epoch 20/100\n",
      "47/47 [==============================] - 4s 81ms/step - loss: 0.0400 - subset_accuracy: 0.7833 - hamming_loss: 0.0589 - matthews_correlation: 0.8808 - macro_f1_score: 0.9496 - val_loss: 0.0285 - val_subset_accuracy: 0.8466 - val_hamming_loss: 0.0407 - val_matthews_correlation: 0.9189 - val_macro_f1_score: 0.9655\n",
      "Epoch 21/100\n",
      "47/47 [==============================] - 4s 81ms/step - loss: 0.0395 - subset_accuracy: 0.7852 - hamming_loss: 0.0585 - matthews_correlation: 0.8817 - macro_f1_score: 0.9499 - val_loss: 0.0279 - val_subset_accuracy: 0.8498 - val_hamming_loss: 0.0398 - val_matthews_correlation: 0.9206 - val_macro_f1_score: 0.9663\n",
      "Epoch 22/100\n",
      "36/47 [=====================>........] - ETA: 0s - loss: 0.0389 - subset_accuracy: 0.7892 - hamming_loss: 0.0571 - matthews_correlation: 0.8846 - macro_f1_score: 0.9512"
     ]
    }
   ],
   "source": [
    "# Run optimization\n",
    "study = optimizer.optimize()\n",
    "\n",
    "# Print best results\n",
    "print(\"Best trial:\")\n",
    "trial = study.best_trial\n",
    "print(f\"  Value: {trial.value}\")\n",
    "print(\"  Params:\")\n",
    "for key, value in trial.params.items():\n",
    "    print(f\"    {key}: {value}\")"
   ]
  },
  {
   "cell_type": "code",
   "execution_count": null,
   "metadata": {},
   "outputs": [],
   "source": []
  }
 ],
 "metadata": {
  "kernelspec": {
   "display_name": "Python 3 (ipykernel)",
   "language": "python",
   "name": "python3"
  },
  "language_info": {
   "codemirror_mode": {
    "name": "ipython",
    "version": 3
   },
   "file_extension": ".py",
   "mimetype": "text/x-python",
   "name": "python",
   "nbconvert_exporter": "python",
   "pygments_lexer": "ipython3",
   "version": "3.10.12"
  }
 },
 "nbformat": 4,
 "nbformat_minor": 4
}
