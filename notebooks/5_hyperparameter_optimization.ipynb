{
 "cells": [
  {
   "cell_type": "markdown",
   "metadata": {},
   "source": [
    "# Hyperparameter Optimization with Optuna\n",
    "\n",
    "Optimize model architecture and training parameters."
   ]
  },
  {
   "cell_type": "code",
   "execution_count": 1,
   "metadata": {},
   "outputs": [
    {
     "name": "stderr",
     "output_type": "stream",
     "text": [
      "2025-01-15 18:24:28.923697: I tensorflow/tsl/cuda/cudart_stub.cc:28] Could not find cuda drivers on your machine, GPU will not be used.\n",
      "2025-01-15 18:24:28.960133: I tensorflow/tsl/cuda/cudart_stub.cc:28] Could not find cuda drivers on your machine, GPU will not be used.\n",
      "2025-01-15 18:24:28.960996: I tensorflow/core/platform/cpu_feature_guard.cc:182] This TensorFlow binary is optimized to use available CPU instructions in performance-critical operations.\n",
      "To enable the following instructions: AVX2 FMA, in other operations, rebuild TensorFlow with the appropriate compiler flags.\n",
      "2025-01-15 18:24:29.855392: W tensorflow/compiler/tf2tensorrt/utils/py_utils.cc:38] TF-TRT Warning: Could not find TensorRT\n"
     ]
    }
   ],
   "source": [
    "import sys\n",
    "import os\n",
    "from pathlib import Path\n",
    "\n",
    "# Setup paths\n",
    "notebook_dir = Path(os.path.abspath('')).parent\n",
    "build_dir = notebook_dir.parent\n",
    "sys.path.append(str(notebook_dir))\n",
    "\n",
    "import pandas as pd\n",
    "import numpy as np\n",
    "from src.modeling.architecture import ModelBuilder\n",
    "from src.preprocessing.preprocessor import FeaturePreprocessor\n",
    "from src.optimization.optuna_tuner import ModelOptimizer"
   ]
  },
  {
   "cell_type": "code",
   "execution_count": 2,
   "metadata": {},
   "outputs": [],
   "source": [
    "# Load and preprocess data\n",
    "feature_cols = ['mH2', 'mHD', 'mAD', 'mHDp', 'alpha', 'L2', 'L8', 'vs', 'm22sq']\n",
    "label_cols = ['valid_BFB', 'valid_Uni', 'valid_STU', 'valid_Higgs']\n",
    "\n",
    "# Load preprocessor\n",
    "preprocessor = FeaturePreprocessor.load_transformers(os.path.join(build_dir, 'preprocessor'))\n",
    "\n",
    "# Load and preprocess train/val sets\n",
    "train_data = pd.read_csv(os.path.join(build_dir, 'data_splits/train_set.tsv'), sep='\\t')\n",
    "val_data = pd.read_csv(os.path.join(build_dir, 'data_splits/val_set.tsv'), sep='\\t')\n",
    "\n",
    "X_train = preprocessor.transform(train_data[feature_cols])\n",
    "y_train = train_data[label_cols]\n",
    "\n",
    "X_val = preprocessor.transform(val_data[feature_cols])\n",
    "y_val = val_data[label_cols]"
   ]
  },
  {
   "cell_type": "code",
   "execution_count": 3,
   "metadata": {},
   "outputs": [],
   "source": [
    "# Initialize model builder\n",
    "builder = ModelBuilder(\n",
    "    input_shape=(len(feature_cols),),\n",
    "    num_outputs=len(label_cols)\n",
    ")\n",
    "\n",
    "# Set up optimizer\n",
    "optimizer = ModelOptimizer(\n",
    "    model_builder=builder,\n",
    "    X_train=X_train,\n",
    "    y_train=y_train,\n",
    "    X_val=X_val,\n",
    "    y_val=y_val,\n",
    "    output_dir=os.path.join(build_dir, 'optuna_results'),\n",
    "    n_trials=1  # Adjust based on your needs\n",
    ")"
   ]
  },
  {
   "cell_type": "code",
   "execution_count": 4,
   "metadata": {},
   "outputs": [
    {
     "name": "stderr",
     "output_type": "stream",
     "text": [
      "[I 2025-01-15 18:24:46,713] A new study created in memory with name: model_optimization\n",
      "2025-01-15 18:24:46.720856: I tensorflow/compiler/xla/stream_executor/cuda/cuda_diagnostics.cc:168] retrieving CUDA diagnostic information for host: maienPC\n",
      "2025-01-15 18:24:46.720871: I tensorflow/compiler/xla/stream_executor/cuda/cuda_diagnostics.cc:175] hostname: maienPC\n",
      "2025-01-15 18:24:46.720941: I tensorflow/compiler/xla/stream_executor/cuda/cuda_diagnostics.cc:199] libcuda reported version is: NOT_FOUND: was unable to find libcuda.so DSO loaded into this program\n",
      "2025-01-15 18:24:46.720968: I tensorflow/compiler/xla/stream_executor/cuda/cuda_diagnostics.cc:203] kernel reported version is: 470.239.6\n"
     ]
    },
    {
     "name": "stdout",
     "output_type": "stream",
     "text": [
      "Epoch 1/100\n",
      "53/53 [==============================] - 11s 150ms/step - loss: 0.1551 - subset_accuracy: 0.4120 - hamming_loss: 0.2014 - matthews_correlation: 0.5911 - macro_f1_score: 0.8244 - val_loss: 0.1359 - val_subset_accuracy: 0.3427 - val_hamming_loss: 0.2492 - val_matthews_correlation: 0.5447 - val_macro_f1_score: 0.8222\n",
      "Epoch 2/100\n",
      "53/53 [==============================] - 9s 161ms/step - loss: 0.0927 - subset_accuracy: 0.5382 - hamming_loss: 0.1414 - matthews_correlation: 0.7127 - macro_f1_score: 0.8793 - val_loss: 0.1463 - val_subset_accuracy: 0.3018 - val_hamming_loss: 0.2840 - val_matthews_correlation: 0.4790 - val_macro_f1_score: 0.7959\n",
      "Epoch 3/100\n",
      "53/53 [==============================] - 9s 173ms/step - loss: 0.0775 - subset_accuracy: 0.5969 - hamming_loss: 0.1190 - matthews_correlation: 0.7585 - macro_f1_score: 0.8984 - val_loss: 0.1883 - val_subset_accuracy: 0.3002 - val_hamming_loss: 0.2890 - val_matthews_correlation: 0.4487 - val_macro_f1_score: 0.7869\n",
      "Epoch 4/100\n",
      "53/53 [==============================] - 8s 154ms/step - loss: 0.0683 - subset_accuracy: 0.6374 - hamming_loss: 0.1050 - matthews_correlation: 0.7871 - macro_f1_score: 0.9103 - val_loss: 0.1922 - val_subset_accuracy: 0.3135 - val_hamming_loss: 0.2720 - val_matthews_correlation: 0.4714 - val_macro_f1_score: 0.7922\n",
      "Epoch 5/100\n",
      "53/53 [==============================] - 8s 147ms/step - loss: 0.0621 - subset_accuracy: 0.6647 - hamming_loss: 0.0958 - matthews_correlation: 0.8060 - macro_f1_score: 0.9183 - val_loss: 0.1655 - val_subset_accuracy: 0.3942 - val_hamming_loss: 0.2190 - val_matthews_correlation: 0.5746 - val_macro_f1_score: 0.8281\n",
      "Epoch 6/100\n",
      "53/53 [==============================] - 8s 148ms/step - loss: 0.0580 - subset_accuracy: 0.6855 - hamming_loss: 0.0887 - matthews_correlation: 0.8203 - macro_f1_score: 0.9243 - val_loss: 0.1306 - val_subset_accuracy: 0.4579 - val_hamming_loss: 0.1812 - val_matthews_correlation: 0.6400 - val_macro_f1_score: 0.8505\n",
      "Epoch 7/100\n",
      "53/53 [==============================] - 8s 144ms/step - loss: 0.0545 - subset_accuracy: 0.7042 - hamming_loss: 0.0831 - matthews_correlation: 0.8317 - macro_f1_score: 0.9293 - val_loss: 0.0979 - val_subset_accuracy: 0.5499 - val_hamming_loss: 0.1403 - val_matthews_correlation: 0.7220 - val_macro_f1_score: 0.8835\n",
      "Epoch 8/100\n",
      "53/53 [==============================] - 8s 151ms/step - loss: 0.0513 - subset_accuracy: 0.7216 - hamming_loss: 0.0775 - matthews_correlation: 0.8432 - macro_f1_score: 0.9339 - val_loss: 0.0760 - val_subset_accuracy: 0.6374 - val_hamming_loss: 0.1080 - val_matthews_correlation: 0.7887 - val_macro_f1_score: 0.9113\n",
      "Epoch 9/100\n",
      "53/53 [==============================] - 8s 160ms/step - loss: 0.0488 - subset_accuracy: 0.7354 - hamming_loss: 0.0732 - matthews_correlation: 0.8521 - macro_f1_score: 0.9377 - val_loss: 0.0542 - val_subset_accuracy: 0.7162 - val_hamming_loss: 0.0803 - val_matthews_correlation: 0.8417 - val_macro_f1_score: 0.9328\n",
      "Epoch 10/100\n",
      "53/53 [==============================] - 9s 164ms/step - loss: 0.0467 - subset_accuracy: 0.7466 - hamming_loss: 0.0696 - matthews_correlation: 0.8593 - macro_f1_score: 0.9406 - val_loss: 0.0445 - val_subset_accuracy: 0.7595 - val_hamming_loss: 0.0666 - val_matthews_correlation: 0.8676 - val_macro_f1_score: 0.9437\n",
      "Epoch 11/100\n",
      "53/53 [==============================] - 8s 145ms/step - loss: 0.0446 - subset_accuracy: 0.7583 - hamming_loss: 0.0664 - matthews_correlation: 0.8656 - macro_f1_score: 0.9433 - val_loss: 0.0393 - val_subset_accuracy: 0.7902 - val_hamming_loss: 0.0571 - val_matthews_correlation: 0.8863 - val_macro_f1_score: 0.9517\n",
      "Epoch 12/100\n",
      "53/53 [==============================] - 9s 176ms/step - loss: 0.0430 - subset_accuracy: 0.7670 - hamming_loss: 0.0636 - matthews_correlation: 0.8714 - macro_f1_score: 0.9457 - val_loss: 0.0371 - val_subset_accuracy: 0.7985 - val_hamming_loss: 0.0548 - val_matthews_correlation: 0.8900 - val_macro_f1_score: 0.9530\n",
      "Epoch 13/100\n",
      "53/53 [==============================] - 8s 148ms/step - loss: 0.0411 - subset_accuracy: 0.7776 - hamming_loss: 0.0605 - matthews_correlation: 0.8777 - macro_f1_score: 0.9483 - val_loss: 0.0323 - val_subset_accuracy: 0.8301 - val_hamming_loss: 0.0453 - val_matthews_correlation: 0.9089 - val_macro_f1_score: 0.9609\n",
      "Epoch 14/100\n",
      "53/53 [==============================] - 8s 144ms/step - loss: 0.0402 - subset_accuracy: 0.7811 - hamming_loss: 0.0595 - matthews_correlation: 0.8798 - macro_f1_score: 0.9491 - val_loss: 0.0449 - val_subset_accuracy: 0.7727 - val_hamming_loss: 0.0617 - val_matthews_correlation: 0.8750 - val_macro_f1_score: 0.9456\n",
      "Epoch 15/100\n",
      "53/53 [==============================] - 8s 150ms/step - loss: 0.0392 - subset_accuracy: 0.7900 - hamming_loss: 0.0569 - matthews_correlation: 0.8851 - macro_f1_score: 0.9514 - val_loss: 0.0291 - val_subset_accuracy: 0.8564 - val_hamming_loss: 0.0380 - val_matthews_correlation: 0.9236 - val_macro_f1_score: 0.9673\n",
      "Epoch 16/100\n",
      "53/53 [==============================] - 7s 142ms/step - loss: 0.0375 - subset_accuracy: 0.7977 - hamming_loss: 0.0548 - matthews_correlation: 0.8893 - macro_f1_score: 0.9531 - val_loss: 0.0299 - val_subset_accuracy: 0.8460 - val_hamming_loss: 0.0411 - val_matthews_correlation: 0.9174 - val_macro_f1_score: 0.9647\n",
      "Epoch 17/100\n",
      "53/53 [==============================] - 8s 146ms/step - loss: 0.0368 - subset_accuracy: 0.7988 - hamming_loss: 0.0544 - matthews_correlation: 0.8902 - macro_f1_score: 0.9534 - val_loss: 0.0300 - val_subset_accuracy: 0.8415 - val_hamming_loss: 0.0420 - val_matthews_correlation: 0.9150 - val_macro_f1_score: 0.9637\n",
      "Epoch 18/100\n",
      "53/53 [==============================] - 7s 141ms/step - loss: 0.0357 - subset_accuracy: 0.8081 - hamming_loss: 0.0519 - matthews_correlation: 0.8950 - macro_f1_score: 0.9555 - val_loss: 0.0280 - val_subset_accuracy: 0.8519 - val_hamming_loss: 0.0393 - val_matthews_correlation: 0.9208 - val_macro_f1_score: 0.9662\n",
      "Epoch 19/100\n",
      "53/53 [==============================] - 9s 163ms/step - loss: 0.0355 - subset_accuracy: 0.8095 - hamming_loss: 0.0513 - matthews_correlation: 0.8963 - macro_f1_score: 0.9560 - val_loss: 0.0275 - val_subset_accuracy: 0.8552 - val_hamming_loss: 0.0384 - val_matthews_correlation: 0.9225 - val_macro_f1_score: 0.9669\n",
      "Epoch 20/100\n",
      "53/53 [==============================] - 8s 155ms/step - loss: 0.0344 - subset_accuracy: 0.8111 - hamming_loss: 0.0511 - matthews_correlation: 0.8969 - macro_f1_score: 0.9561 - val_loss: 0.0357 - val_subset_accuracy: 0.8189 - val_hamming_loss: 0.0484 - val_matthews_correlation: 0.9020 - val_macro_f1_score: 0.9582\n",
      "Epoch 21/100\n",
      "53/53 [==============================] - 8s 154ms/step - loss: 0.0348 - subset_accuracy: 0.8095 - hamming_loss: 0.0513 - matthews_correlation: 0.8962 - macro_f1_score: 0.9560 - val_loss: 0.0262 - val_subset_accuracy: 0.8607 - val_hamming_loss: 0.0369 - val_matthews_correlation: 0.9257 - val_macro_f1_score: 0.9683\n",
      "Epoch 22/100\n",
      "53/53 [==============================] - 8s 153ms/step - loss: 0.0331 - subset_accuracy: 0.8201 - hamming_loss: 0.0485 - matthews_correlation: 0.9020 - macro_f1_score: 0.9584 - val_loss: 0.0292 - val_subset_accuracy: 0.8505 - val_hamming_loss: 0.0396 - val_matthews_correlation: 0.9200 - val_macro_f1_score: 0.9659\n",
      "Epoch 23/100\n",
      "53/53 [==============================] - 8s 146ms/step - loss: 0.0334 - subset_accuracy: 0.8191 - hamming_loss: 0.0485 - matthews_correlation: 0.9019 - macro_f1_score: 0.9584 - val_loss: 0.0283 - val_subset_accuracy: 0.8445 - val_hamming_loss: 0.0411 - val_matthews_correlation: 0.9166 - val_macro_f1_score: 0.9641\n",
      "Epoch 24/100\n",
      "53/53 [==============================] - 9s 164ms/step - loss: 0.0326 - subset_accuracy: 0.8247 - hamming_loss: 0.0470 - matthews_correlation: 0.9050 - macro_f1_score: 0.9596 - val_loss: 0.0239 - val_subset_accuracy: 0.8808 - val_hamming_loss: 0.0312 - val_matthews_correlation: 0.9372 - val_macro_f1_score: 0.9732\n",
      "Epoch 25/100\n",
      "53/53 [==============================] - 8s 154ms/step - loss: 0.0316 - subset_accuracy: 0.8287 - hamming_loss: 0.0456 - matthews_correlation: 0.9078 - macro_f1_score: 0.9608 - val_loss: 0.0276 - val_subset_accuracy: 0.8532 - val_hamming_loss: 0.0389 - val_matthews_correlation: 0.9214 - val_macro_f1_score: 0.9664\n",
      "Epoch 26/100\n"
     ]
    },
    {
     "name": "stdout",
     "output_type": "stream",
     "text": [
      "53/53 [==============================] - 8s 142ms/step - loss: 0.0313 - subset_accuracy: 0.8301 - hamming_loss: 0.0454 - matthews_correlation: 0.9083 - macro_f1_score: 0.9610 - val_loss: 0.0281 - val_subset_accuracy: 0.8614 - val_hamming_loss: 0.0368 - val_matthews_correlation: 0.9261 - val_macro_f1_score: 0.9688\n",
      "Epoch 27/100\n",
      "53/53 [==============================] - 8s 146ms/step - loss: 0.0312 - subset_accuracy: 0.8317 - hamming_loss: 0.0449 - matthews_correlation: 0.9091 - macro_f1_score: 0.9614 - val_loss: 0.0238 - val_subset_accuracy: 0.8825 - val_hamming_loss: 0.0309 - val_matthews_correlation: 0.9378 - val_macro_f1_score: 0.9733\n",
      "Epoch 28/100\n",
      "53/53 [==============================] - 8s 145ms/step - loss: 0.0305 - subset_accuracy: 0.8345 - hamming_loss: 0.0442 - matthews_correlation: 0.9107 - macro_f1_score: 0.9621 - val_loss: 0.0246 - val_subset_accuracy: 0.8745 - val_hamming_loss: 0.0329 - val_matthews_correlation: 0.9339 - val_macro_f1_score: 0.9718\n",
      "Epoch 29/100\n",
      "53/53 [==============================] - 8s 145ms/step - loss: 0.0304 - subset_accuracy: 0.8370 - hamming_loss: 0.0434 - matthews_correlation: 0.9123 - macro_f1_score: 0.9627 - val_loss: 0.0248 - val_subset_accuracy: 0.8751 - val_hamming_loss: 0.0326 - val_matthews_correlation: 0.9344 - val_macro_f1_score: 0.9720\n",
      "Epoch 30/100\n",
      "53/53 [==============================] - 8s 143ms/step - loss: 0.0297 - subset_accuracy: 0.8376 - hamming_loss: 0.0433 - matthews_correlation: 0.9125 - macro_f1_score: 0.9628 - val_loss: 0.0246 - val_subset_accuracy: 0.8778 - val_hamming_loss: 0.0322 - val_matthews_correlation: 0.9350 - val_macro_f1_score: 0.9722\n",
      "Epoch 31/100\n",
      "53/53 [==============================] - 8s 146ms/step - loss: 0.0297 - subset_accuracy: 0.8366 - hamming_loss: 0.0436 - matthews_correlation: 0.9118 - macro_f1_score: 0.9625 - val_loss: 0.0253 - val_subset_accuracy: 0.8670 - val_hamming_loss: 0.0350 - val_matthews_correlation: 0.9296 - val_macro_f1_score: 0.9701\n",
      "Epoch 32/100\n",
      "53/53 [==============================] - 8s 147ms/step - loss: 0.0295 - subset_accuracy: 0.8380 - hamming_loss: 0.0431 - matthews_correlation: 0.9127 - macro_f1_score: 0.9629 - val_loss: 0.0240 - val_subset_accuracy: 0.8756 - val_hamming_loss: 0.0328 - val_matthews_correlation: 0.9337 - val_macro_f1_score: 0.9716\n",
      "Epoch 33/100\n",
      "53/53 [==============================] - 8s 143ms/step - loss: 0.0291 - subset_accuracy: 0.8412 - hamming_loss: 0.0423 - matthews_correlation: 0.9144 - macro_f1_score: 0.9636 - val_loss: 0.0270 - val_subset_accuracy: 0.8530 - val_hamming_loss: 0.0392 - val_matthews_correlation: 0.9206 - val_macro_f1_score: 0.9659\n",
      "Epoch 34/100\n",
      "53/53 [==============================] - 8s 144ms/step - loss: 0.0289 - subset_accuracy: 0.8422 - hamming_loss: 0.0420 - matthews_correlation: 0.9151 - macro_f1_score: 0.9639 - val_loss: 0.0211 - val_subset_accuracy: 0.8940 - val_hamming_loss: 0.0277 - val_matthews_correlation: 0.9443 - val_macro_f1_score: 0.9761\n",
      "Epoch 35/100\n",
      "53/53 [==============================] - 8s 148ms/step - loss: 0.0285 - subset_accuracy: 0.8446 - hamming_loss: 0.0415 - matthews_correlation: 0.9161 - macro_f1_score: 0.9642 - val_loss: 0.0264 - val_subset_accuracy: 0.8569 - val_hamming_loss: 0.0378 - val_matthews_correlation: 0.9235 - val_macro_f1_score: 0.9671\n",
      "Epoch 36/100\n",
      "53/53 [==============================] - 8s 151ms/step - loss: 0.0286 - subset_accuracy: 0.8426 - hamming_loss: 0.0419 - matthews_correlation: 0.9153 - macro_f1_score: 0.9639 - val_loss: 0.0237 - val_subset_accuracy: 0.8771 - val_hamming_loss: 0.0322 - val_matthews_correlation: 0.9348 - val_macro_f1_score: 0.9721\n",
      "Epoch 37/100\n",
      "53/53 [==============================] - 8s 142ms/step - loss: 0.0288 - subset_accuracy: 0.8429 - hamming_loss: 0.0418 - matthews_correlation: 0.9155 - macro_f1_score: 0.9641 - val_loss: 0.0271 - val_subset_accuracy: 0.8520 - val_hamming_loss: 0.0401 - val_matthews_correlation: 0.9187 - val_macro_f1_score: 0.9650\n",
      "Epoch 38/100\n",
      "53/53 [==============================] - 8s 143ms/step - loss: 0.0280 - subset_accuracy: 0.8489 - hamming_loss: 0.0402 - matthews_correlation: 0.9187 - macro_f1_score: 0.9654 - val_loss: 0.0217 - val_subset_accuracy: 0.8856 - val_hamming_loss: 0.0300 - val_matthews_correlation: 0.9395 - val_macro_f1_score: 0.9742\n",
      "Epoch 39/100\n",
      "53/53 [==============================] - 8s 143ms/step - loss: 0.0275 - subset_accuracy: 0.8477 - hamming_loss: 0.0404 - matthews_correlation: 0.9183 - macro_f1_score: 0.9653 - val_loss: 0.0254 - val_subset_accuracy: 0.8608 - val_hamming_loss: 0.0372 - val_matthews_correlation: 0.9245 - val_macro_f1_score: 0.9678\n",
      "Epoch 40/100\n",
      "53/53 [==============================] - 7s 141ms/step - loss: 0.0274 - subset_accuracy: 0.8506 - hamming_loss: 0.0396 - matthews_correlation: 0.9199 - macro_f1_score: 0.9659 - val_loss: 0.0217 - val_subset_accuracy: 0.8840 - val_hamming_loss: 0.0303 - val_matthews_correlation: 0.9392 - val_macro_f1_score: 0.9740\n",
      "Epoch 41/100\n",
      "53/53 [==============================] - 8s 148ms/step - loss: 0.0270 - subset_accuracy: 0.8527 - hamming_loss: 0.0390 - matthews_correlation: 0.9211 - macro_f1_score: 0.9664 - val_loss: 0.0242 - val_subset_accuracy: 0.8778 - val_hamming_loss: 0.0322 - val_matthews_correlation: 0.9352 - val_macro_f1_score: 0.9726\n",
      "Epoch 42/100\n",
      "53/53 [==============================] - 9s 172ms/step - loss: 0.0269 - subset_accuracy: 0.8545 - hamming_loss: 0.0386 - matthews_correlation: 0.9220 - macro_f1_score: 0.9669 - val_loss: 0.0202 - val_subset_accuracy: 0.8988 - val_hamming_loss: 0.0265 - val_matthews_correlation: 0.9467 - val_macro_f1_score: 0.9771\n",
      "Epoch 43/100\n",
      "53/53 [==============================] - 8s 148ms/step - loss: 0.0268 - subset_accuracy: 0.8542 - hamming_loss: 0.0386 - matthews_correlation: 0.9219 - macro_f1_score: 0.9668 - val_loss: 0.0232 - val_subset_accuracy: 0.8736 - val_hamming_loss: 0.0333 - val_matthews_correlation: 0.9329 - val_macro_f1_score: 0.9713\n",
      "Epoch 44/100\n",
      "53/53 [==============================] - 8s 151ms/step - loss: 0.0270 - subset_accuracy: 0.8523 - hamming_loss: 0.0391 - matthews_correlation: 0.9209 - macro_f1_score: 0.9664 - val_loss: 0.0223 - val_subset_accuracy: 0.8852 - val_hamming_loss: 0.0299 - val_matthews_correlation: 0.9395 - val_macro_f1_score: 0.9741\n",
      "Epoch 45/100\n",
      "53/53 [==============================] - 8s 146ms/step - loss: 0.0271 - subset_accuracy: 0.8513 - hamming_loss: 0.0395 - matthews_correlation: 0.9202 - macro_f1_score: 0.9660 - val_loss: 0.0239 - val_subset_accuracy: 0.8772 - val_hamming_loss: 0.0325 - val_matthews_correlation: 0.9345 - val_macro_f1_score: 0.9722\n",
      "Epoch 46/100\n",
      "53/53 [==============================] - 8s 143ms/step - loss: 0.0267 - subset_accuracy: 0.8518 - hamming_loss: 0.0393 - matthews_correlation: 0.9206 - macro_f1_score: 0.9661 - val_loss: 0.0306 - val_subset_accuracy: 0.8433 - val_hamming_loss: 0.0418 - val_matthews_correlation: 0.9154 - val_macro_f1_score: 0.9639\n",
      "Epoch 47/100\n",
      "53/53 [==============================] - 7s 140ms/step - loss: 0.0271 - subset_accuracy: 0.8531 - hamming_loss: 0.0389 - matthews_correlation: 0.9214 - macro_f1_score: 0.9665 - val_loss: 0.0213 - val_subset_accuracy: 0.8835 - val_hamming_loss: 0.0304 - val_matthews_correlation: 0.9388 - val_macro_f1_score: 0.9737\n",
      "Epoch 48/100\n",
      "53/53 [==============================] - 8s 146ms/step - loss: 0.0260 - subset_accuracy: 0.8578 - hamming_loss: 0.0377 - matthews_correlation: 0.9238 - macro_f1_score: 0.9675 - val_loss: 0.0229 - val_subset_accuracy: 0.8753 - val_hamming_loss: 0.0328 - val_matthews_correlation: 0.9336 - val_macro_f1_score: 0.9717\n",
      "Epoch 49/100\n",
      "53/53 [==============================] - 8s 143ms/step - loss: 0.0262 - subset_accuracy: 0.8569 - hamming_loss: 0.0379 - matthews_correlation: 0.9234 - macro_f1_score: 0.9674 - val_loss: 0.0210 - val_subset_accuracy: 0.8926 - val_hamming_loss: 0.0281 - val_matthews_correlation: 0.9432 - val_macro_f1_score: 0.9757\n",
      "Epoch 50/100\n",
      "53/53 [==============================] - 9s 171ms/step - loss: 0.0256 - subset_accuracy: 0.8591 - hamming_loss: 0.0372 - matthews_correlation: 0.9248 - macro_f1_score: 0.9680 - val_loss: 0.0216 - val_subset_accuracy: 0.8831 - val_hamming_loss: 0.0309 - val_matthews_correlation: 0.9377 - val_macro_f1_score: 0.9732\n",
      "Epoch 51/100\n"
     ]
    },
    {
     "name": "stdout",
     "output_type": "stream",
     "text": [
      "53/53 [==============================] - 9s 177ms/step - loss: 0.0261 - subset_accuracy: 0.8553 - hamming_loss: 0.0383 - matthews_correlation: 0.9225 - macro_f1_score: 0.9670 - val_loss: 0.0312 - val_subset_accuracy: 0.8274 - val_hamming_loss: 0.0457 - val_matthews_correlation: 0.9076 - val_macro_f1_score: 0.9598\n",
      "Epoch 52/100\n",
      "53/53 [==============================] - 9s 177ms/step - loss: 0.0267 - subset_accuracy: 0.8536 - hamming_loss: 0.0390 - matthews_correlation: 0.9212 - macro_f1_score: 0.9663 - val_loss: 0.0199 - val_subset_accuracy: 0.8999 - val_hamming_loss: 0.0262 - val_matthews_correlation: 0.9474 - val_macro_f1_score: 0.9774\n",
      "Epoch 53/100\n",
      "53/53 [==============================] - 9s 172ms/step - loss: 0.0251 - subset_accuracy: 0.8614 - hamming_loss: 0.0366 - matthews_correlation: 0.9260 - macro_f1_score: 0.9685 - val_loss: 0.0241 - val_subset_accuracy: 0.8642 - val_hamming_loss: 0.0362 - val_matthews_correlation: 0.9266 - val_macro_f1_score: 0.9687\n",
      "Epoch 54/100\n",
      "53/53 [==============================] - 8s 160ms/step - loss: 0.0255 - subset_accuracy: 0.8621 - hamming_loss: 0.0363 - matthews_correlation: 0.9266 - macro_f1_score: 0.9688 - val_loss: 0.0208 - val_subset_accuracy: 0.8931 - val_hamming_loss: 0.0282 - val_matthews_correlation: 0.9431 - val_macro_f1_score: 0.9756\n",
      "Epoch 55/100\n",
      "53/53 [==============================] - 9s 179ms/step - loss: 0.0252 - subset_accuracy: 0.8634 - hamming_loss: 0.0361 - matthews_correlation: 0.9271 - macro_f1_score: 0.9689 - val_loss: 0.0227 - val_subset_accuracy: 0.8780 - val_hamming_loss: 0.0321 - val_matthews_correlation: 0.9352 - val_macro_f1_score: 0.9723\n",
      "Epoch 56/100\n",
      "53/53 [==============================] - 9s 160ms/step - loss: 0.0251 - subset_accuracy: 0.8623 - hamming_loss: 0.0363 - matthews_correlation: 0.9266 - macro_f1_score: 0.9686 - val_loss: 0.0293 - val_subset_accuracy: 0.8594 - val_hamming_loss: 0.0373 - val_matthews_correlation: 0.9244 - val_macro_f1_score: 0.9680\n",
      "Epoch 57/100\n",
      "53/53 [==============================] - 9s 165ms/step - loss: 0.0262 - subset_accuracy: 0.8570 - hamming_loss: 0.0379 - matthews_correlation: 0.9234 - macro_f1_score: 0.9674 - val_loss: 0.0212 - val_subset_accuracy: 0.8895 - val_hamming_loss: 0.0287 - val_matthews_correlation: 0.9421 - val_macro_f1_score: 0.9753\n",
      "Epoch 58/100\n",
      "53/53 [==============================] - 8s 159ms/step - loss: 0.0252 - subset_accuracy: 0.8638 - hamming_loss: 0.0359 - matthews_correlation: 0.9273 - macro_f1_score: 0.9691 - val_loss: 0.0186 - val_subset_accuracy: 0.9017 - val_hamming_loss: 0.0257 - val_matthews_correlation: 0.9485 - val_macro_f1_score: 0.9780\n",
      "Epoch 59/100\n",
      "53/53 [==============================] - 8s 158ms/step - loss: 0.0242 - subset_accuracy: 0.8694 - hamming_loss: 0.0345 - matthews_correlation: 0.9303 - macro_f1_score: 0.9704 - val_loss: 0.0196 - val_subset_accuracy: 0.8990 - val_hamming_loss: 0.0261 - val_matthews_correlation: 0.9474 - val_macro_f1_score: 0.9774\n",
      "Epoch 60/100\n",
      "53/53 [==============================] - 9s 170ms/step - loss: 0.0241 - subset_accuracy: 0.8703 - hamming_loss: 0.0342 - matthews_correlation: 0.9309 - macro_f1_score: 0.9706 - val_loss: 0.0183 - val_subset_accuracy: 0.9070 - val_hamming_loss: 0.0242 - val_matthews_correlation: 0.9513 - val_macro_f1_score: 0.9792\n",
      "Epoch 61/100\n",
      "53/53 [==============================] - 9s 164ms/step - loss: 0.0242 - subset_accuracy: 0.8653 - hamming_loss: 0.0357 - matthews_correlation: 0.9280 - macro_f1_score: 0.9692 - val_loss: 0.0282 - val_subset_accuracy: 0.8493 - val_hamming_loss: 0.0402 - val_matthews_correlation: 0.9185 - val_macro_f1_score: 0.9648\n",
      "Epoch 62/100\n",
      "53/53 [==============================] - 8s 156ms/step - loss: 0.0248 - subset_accuracy: 0.8651 - hamming_loss: 0.0355 - matthews_correlation: 0.9282 - macro_f1_score: 0.9693 - val_loss: 0.0206 - val_subset_accuracy: 0.8931 - val_hamming_loss: 0.0281 - val_matthews_correlation: 0.9435 - val_macro_f1_score: 0.9760\n",
      "Epoch 63/100\n",
      "53/53 [==============================] - 8s 142ms/step - loss: 0.0245 - subset_accuracy: 0.8637 - hamming_loss: 0.0359 - matthews_correlation: 0.9274 - macro_f1_score: 0.9690 - val_loss: 0.0234 - val_subset_accuracy: 0.8731 - val_hamming_loss: 0.0332 - val_matthews_correlation: 0.9330 - val_macro_f1_score: 0.9711\n",
      "Epoch 64/100\n",
      "53/53 [==============================] - 9s 174ms/step - loss: 0.0252 - subset_accuracy: 0.8620 - hamming_loss: 0.0366 - matthews_correlation: 0.9260 - macro_f1_score: 0.9684 - val_loss: 0.0250 - val_subset_accuracy: 0.8602 - val_hamming_loss: 0.0368 - val_matthews_correlation: 0.9254 - val_macro_f1_score: 0.9680\n",
      "Epoch 65/100\n",
      "53/53 [==============================] - 8s 154ms/step - loss: 0.0245 - subset_accuracy: 0.8666 - hamming_loss: 0.0352 - matthews_correlation: 0.9288 - macro_f1_score: 0.9696 - val_loss: 0.0206 - val_subset_accuracy: 0.8921 - val_hamming_loss: 0.0284 - val_matthews_correlation: 0.9428 - val_macro_f1_score: 0.9754\n",
      "Epoch 66/100\n",
      "53/53 [==============================] - 8s 145ms/step - loss: 0.0244 - subset_accuracy: 0.8658 - hamming_loss: 0.0353 - matthews_correlation: 0.9287 - macro_f1_score: 0.9695 - val_loss: 0.0189 - val_subset_accuracy: 0.9005 - val_hamming_loss: 0.0259 - val_matthews_correlation: 0.9479 - val_macro_f1_score: 0.9778\n",
      "Epoch 67/100\n",
      "53/53 [==============================] - 8s 148ms/step - loss: 0.0238 - subset_accuracy: 0.8685 - hamming_loss: 0.0346 - matthews_correlation: 0.9300 - macro_f1_score: 0.9701 - val_loss: 0.0211 - val_subset_accuracy: 0.8899 - val_hamming_loss: 0.0288 - val_matthews_correlation: 0.9420 - val_macro_f1_score: 0.9751\n",
      "Epoch 68/100\n",
      "53/53 [==============================] - 8s 142ms/step - loss: 0.0245 - subset_accuracy: 0.8669 - hamming_loss: 0.0351 - matthews_correlation: 0.9289 - macro_f1_score: 0.9697 - val_loss: 0.0228 - val_subset_accuracy: 0.8769 - val_hamming_loss: 0.0321 - val_matthews_correlation: 0.9350 - val_macro_f1_score: 0.9722\n",
      "Epoch 69/100\n",
      "53/53 [==============================] - 7s 139ms/step - loss: 0.0239 - subset_accuracy: 0.8694 - hamming_loss: 0.0345 - matthews_correlation: 0.9303 - macro_f1_score: 0.9703 - val_loss: 0.0187 - val_subset_accuracy: 0.9005 - val_hamming_loss: 0.0258 - val_matthews_correlation: 0.9481 - val_macro_f1_score: 0.9778\n",
      "Epoch 70/100\n",
      "53/53 [==============================] - 7s 139ms/step - loss: 0.0233 - subset_accuracy: 0.8732 - hamming_loss: 0.0332 - matthews_correlation: 0.9328 - macro_f1_score: 0.9714 - val_loss: 0.0185 - val_subset_accuracy: 0.9016 - val_hamming_loss: 0.0257 - val_matthews_correlation: 0.9484 - val_macro_f1_score: 0.9779\n"
     ]
    },
    {
     "name": "stderr",
     "output_type": "stream",
     "text": [
      "[I 2025-01-15 18:34:16,357] Trial 0 finished with value: 0.9070310592651367 and parameters: {'n_layers': 4, 'activation': 'leaky_relu', 'dropout_rate': 0.1693670900721545, 'apply_batch_norm': True, 'optimizer': 'nadam', 'learning_rate': 0.0005535645533075388, 'batch_size': 1560, 'regularization': None, 'n_units_0': 887, 'n_units_1': 660, 'n_units_2': 748, 'n_units_3': 697}. Best is trial 0 with value: 0.9070310592651367.\n"
     ]
    },
    {
     "name": "stdout",
     "output_type": "stream",
     "text": [
      "Best trial:\n",
      "  Value: 0.9070310592651367\n",
      "  Params:\n",
      "    n_layers: 4\n",
      "    activation: leaky_relu\n",
      "    dropout_rate: 0.1693670900721545\n",
      "    apply_batch_norm: True\n",
      "    optimizer: nadam\n",
      "    learning_rate: 0.0005535645533075388\n",
      "    batch_size: 1560\n",
      "    regularization: None\n",
      "    n_units_0: 887\n",
      "    n_units_1: 660\n",
      "    n_units_2: 748\n",
      "    n_units_3: 697\n"
     ]
    }
   ],
   "source": [
    "# Run optimization\n",
    "study = optimizer.optimize()\n",
    "\n",
    "# Print best results\n",
    "print(\"Best trial:\")\n",
    "trial = study.best_trial\n",
    "print(f\"  Value: {trial.value}\")\n",
    "print(\"  Params:\")\n",
    "for key, value in trial.params.items():\n",
    "    print(f\"    {key}: {value}\")"
   ]
  },
  {
   "cell_type": "code",
   "execution_count": null,
   "metadata": {},
   "outputs": [],
   "source": []
  }
 ],
 "metadata": {
  "kernelspec": {
   "display_name": "Python 3 (ipykernel)",
   "language": "python",
   "name": "python3"
  },
  "language_info": {
   "codemirror_mode": {
    "name": "ipython",
    "version": 3
   },
   "file_extension": ".py",
   "mimetype": "text/x-python",
   "name": "python",
   "nbconvert_exporter": "python",
   "pygments_lexer": "ipython3",
   "version": "3.10.12"
  }
 },
 "nbformat": 4,
 "nbformat_minor": 4
}
