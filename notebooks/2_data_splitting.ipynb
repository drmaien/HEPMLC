{
 "cells": [
  {
   "cell_type": "markdown",
   "metadata": {},
   "source": [
    "# Data Splitting\n",
    "\n",
    "Create train/validation/test splits for model development."
   ]
  },
  {
   "cell_type": "code",
   "execution_count": 1,
   "metadata": {},
   "outputs": [],
   "source": [
    "import sys\n",
    "import os\n",
    "from pathlib import Path\n",
    "\n",
    "# Get the absolute path to the build directory\n",
    "notebook_dir = Path(os.path.abspath('')).parent\n",
    "build_dir = notebook_dir.parent\n",
    "\n",
    "# Add src to path\n",
    "sys.path.append(str(notebook_dir))\n",
    "\n",
    "import pandas as pd\n",
    "from src.preprocessing.data_splitter import DataSplitter"
   ]
  },
  {
   "cell_type": "code",
   "execution_count": 2,
   "metadata": {},
   "outputs": [
    {
     "name": "stdout",
     "output_type": "stream",
     "text": [
      "Training set: 81298 samples (70.0%)\n",
      "Validation set: 17421 samples (15.0%)\n",
      "Test set: 17421 samples (15.0%)\n"
     ]
    }
   ],
   "source": [
    "# Load dataset\n",
    "data = pd.read_csv(os.path.join(build_dir, 'test_set.tsv'), sep='\\t')\n",
    "\n",
    "# Define features and labels\n",
    "feature_cols = ['mH2', 'mHD', 'mAD', 'mHDp', 'alpha', 'L2', 'L8', 'vs', 'm22sq']\n",
    "label_cols = ['valid_BFB', 'valid_Uni', 'valid_STU', 'valid_Higgs']\n",
    "\n",
    "# Initialize splitter\n",
    "splitter = DataSplitter(data, feature_cols, label_cols)\n",
    "\n",
    "# Create splits\n",
    "splits = splitter.create_splits()"
   ]
  },
  {
   "cell_type": "code",
   "execution_count": 3,
   "metadata": {},
   "outputs": [
    {
     "name": "stdout",
     "output_type": "stream",
     "text": [
      "Saved train set to /home/maien/work/ScannerS-master/build/data_splits/train_set.tsv\n",
      "Saved val set to /home/maien/work/ScannerS-master/build/data_splits/val_set.tsv\n",
      "Saved test set to /home/maien/work/ScannerS-master/build/data_splits/test_set.tsv\n"
     ]
    }
   ],
   "source": [
    "# Save splits to build directory\n",
    "splits_dir = os.path.join(build_dir, 'data_splits')\n",
    "splitter.save_splits(splits, splits_dir)"
   ]
  },
  {
   "cell_type": "markdown",
   "metadata": {},
   "source": [
    "## Verify Splits\n",
    "\n",
    "Check label distributions in each split to ensure they're representative."
   ]
  },
  {
   "cell_type": "code",
   "execution_count": 4,
   "metadata": {},
   "outputs": [
    {
     "name": "stdout",
     "output_type": "stream",
     "text": [
      "\n",
      "TRAIN SET LABEL DISTRIBUTIONS:\n",
      "----------------------------------------\n",
      "\n",
      "valid_BFB:\n",
      "valid_BFB\n",
      "1    0.603766\n",
      "0    0.396234\n",
      "Name: proportion, dtype: float64\n",
      "\n",
      "valid_Uni:\n",
      "valid_Uni\n",
      "0    0.503432\n",
      "1    0.496568\n",
      "Name: proportion, dtype: float64\n",
      "\n",
      "valid_STU:\n",
      "valid_STU\n",
      "1    0.559337\n",
      "0    0.440663\n",
      "Name: proportion, dtype: float64\n",
      "\n",
      "valid_Higgs:\n",
      "valid_Higgs\n",
      "1    0.572253\n",
      "0    0.427747\n",
      "Name: proportion, dtype: float64\n",
      "\n",
      "VAL SET LABEL DISTRIBUTIONS:\n",
      "----------------------------------------\n",
      "\n",
      "valid_BFB:\n",
      "valid_BFB\n",
      "1    0.602147\n",
      "0    0.397853\n",
      "Name: proportion, dtype: float64\n",
      "\n",
      "valid_Uni:\n",
      "valid_Uni\n",
      "0    0.504162\n",
      "1    0.495838\n",
      "Name: proportion, dtype: float64\n",
      "\n",
      "valid_STU:\n",
      "valid_STU\n",
      "1    0.558407\n",
      "0    0.441593\n",
      "Name: proportion, dtype: float64\n",
      "\n",
      "valid_Higgs:\n",
      "valid_Higgs\n",
      "1    0.577808\n",
      "0    0.422192\n",
      "Name: proportion, dtype: float64\n",
      "\n",
      "TEST SET LABEL DISTRIBUTIONS:\n",
      "----------------------------------------\n",
      "\n",
      "valid_BFB:\n",
      "valid_BFB\n",
      "1    0.607657\n",
      "0    0.392343\n",
      "Name: proportion, dtype: float64\n",
      "\n",
      "valid_Uni:\n",
      "valid_Uni\n",
      "0    0.500144\n",
      "1    0.499856\n",
      "Name: proportion, dtype: float64\n",
      "\n",
      "valid_STU:\n",
      "valid_STU\n",
      "1    0.564778\n",
      "0    0.435222\n",
      "Name: proportion, dtype: float64\n",
      "\n",
      "valid_Higgs:\n",
      "valid_Higgs\n",
      "1    0.579243\n",
      "0    0.420757\n",
      "Name: proportion, dtype: float64\n"
     ]
    }
   ],
   "source": [
    "# Print label distributions for each split\n",
    "for split_name, (X, y) in splits.items():\n",
    "    print(f\"\\n{split_name.upper()} SET LABEL DISTRIBUTIONS:\")\n",
    "    print(\"-\" * 40)\n",
    "    for label in label_cols:\n",
    "        dist = y[label].value_counts(normalize=True)\n",
    "        print(f\"\\n{label}:\")\n",
    "        print(dist)"
   ]
  },
  {
   "cell_type": "code",
   "execution_count": null,
   "metadata": {},
   "outputs": [],
   "source": []
  }
 ],
 "metadata": {
  "kernelspec": {
   "display_name": "Python 3 (ipykernel)",
   "language": "python",
   "name": "python3"
  },
  "language_info": {
   "codemirror_mode": {
    "name": "ipython",
    "version": 3
   },
   "file_extension": ".py",
   "mimetype": "text/x-python",
   "name": "python",
   "nbconvert_exporter": "python",
   "pygments_lexer": "ipython3",
   "version": "3.10.12"
  }
 },
 "nbformat": 4,
 "nbformat_minor": 4
}
