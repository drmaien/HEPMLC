{
 "cells": [
  {
   "cell_type": "markdown",
   "metadata": {},
   "source": [
    "# Model Selection and Configuration\n",
    "\n",
    "This notebook helps you select and configure a physics model from ScannerS for machine learning.\n",
    "\n",
    "## Prerequisites:\n",
    "* ScannerS must be installed and built correctly\n",
    "* This tool should be placed in the ScannerS build folder"
   ]
  },
  {
   "cell_type": "code",
   "execution_count": 1,
   "metadata": {},
   "outputs": [
    {
     "name": "stdout",
     "output_type": "stream",
     "text": [
      "Available Models in ScannerS:\n",
      "--------------------------------------------------\n",
      "Complex 2HDM Flipped (C2HDM_FL.ini)\n",
      "Complex 2HDM Lepton Specific (C2HDM_LS.ini)\n",
      "Complex 2HDM Type 1 (C2HDM_T1.ini)\n",
      "Complex 2HDM Type 2 (C2HDM_T2.ini)\n",
      "CP-Violating Dark Matter (CPVDM.ini)\n",
      "Complex Singlet Broken Phase (CxSMBroken.ini)\n",
      "Complex Singlet Dark (CxSMDark.ini)\n",
      "N2HDM Broken Type 2 (N2HDMBroken_T2.ini)\n",
      "N2HDM Dark D (N2HDMDarkD.ini)\n",
      "N2HDM Dark SD (N2HDMDarkSD.ini)\n",
      "N2HDM Dark S Type 1 (N2HDMDarkS_T1.ini)\n",
      "Real 2HDM Flipped (R2HDM_FL.ini)\n",
      "Real 2HDM Lepton Specific (R2HDM_LS.ini)\n",
      "Real 2HDM Type 1 (R2HDM_T1.ini)\n",
      "Real 2HDM Type 2 (R2HDM_T2.ini)\n",
      "TRSM Broken Phase (TRSMBroken.ini)\n"
     ]
    }
   ],
   "source": [
    "import os\n",
    "import sys\n",
    "\n",
    "# Get absolute path to build/example_input\n",
    "current_dir = os.path.abspath('')\n",
    "build_dir = os.path.dirname(os.path.dirname(current_dir))\n",
    "example_input_dir = os.path.join(build_dir, 'example_input')\n",
    "\n",
    "# Add src to path\n",
    "src_dir = os.path.join(os.path.dirname(current_dir), 'src')\n",
    "sys.path.append(src_dir)\n",
    "\n",
    "from utils.model_reader import ModelReader\n",
    "\n",
    "# Initialize ModelReader with explicit path\n",
    "reader = ModelReader(scanner_path=example_input_dir)\n",
    "\n",
    "# Display available models\n",
    "print(\"Available Models in ScannerS:\")\n",
    "print(\"-\" * 50)\n",
    "for ini_file, clear_name in sorted(reader.get_available_models().items()):\n",
    "    print(f\"{clear_name} ({ini_file})\")"
   ]
  },
  {
   "cell_type": "code",
   "execution_count": 2,
   "metadata": {},
   "outputs": [
    {
     "name": "stdout",
     "output_type": "stream",
     "text": [
      "\n",
      "Features and their ranges:\n",
      "- mHa: [125.09, 125.09]\n",
      "- mHb: [30.0, 1500.0]\n",
      "- mHD: [1.0, 1500.0]\n",
      "- mAD: [1.0, 1500.0]\n",
      "- mHDp: [1.0, 1500.0]\n",
      "- alpha: [-1.57, 1.57]\n",
      "- m22sq: [0.001, 500000.0]\n",
      "- L2: [0.0, 20.0]\n",
      "- L8: [-30.0, 30.0]\n",
      "- vs: [1.0, 1500.0]\n",
      "\n",
      "Constraints and their current settings:\n",
      "- BfB: ignore\n",
      "- Uni: ignore\n",
      "- STU: ignore\n",
      "- Higgs: ignore\n",
      "- VacStab: skip\n",
      "- DM: skip\n"
     ]
    }
   ],
   "source": [
    "selected_model = \"N2HDMDarkD.ini\"  # Change this to your chosen model\n",
    "\n",
    "features, constraints = reader.read_model(selected_model)\n",
    "\n",
    "print(\"\\nFeatures and their ranges:\")\n",
    "for feature, range_info in features.items():\n",
    "    print(f\"- {feature}: [{range_info['min']}, {range_info['max']}]\")\n",
    "\n",
    "print(\"\\nConstraints and their current settings:\")\n",
    "for constraint, value in constraints.items():\n",
    "    print(f\"- {constraint}: {value}\")"
   ]
  },
  {
   "cell_type": "code",
   "execution_count": 3,
   "metadata": {},
   "outputs": [],
   "source": [
    "def update_constraint_setting(model, constraint, value):\n",
    "    reader.update_constraint(model, constraint, value)\n",
    "    _, new_constraints = reader.read_model(model)\n",
    "    #print(f\"Updated constraints for {model}:\")\n",
    "    #for c, v in new_constraints.items():\n",
    "    #    print(f\"- {c}: {v}\")\n",
    "\n",
    "# Example: update a constraint\n",
    "update_constraint_setting(selected_model, \"BfB\", \"ignore\")\n",
    "update_constraint_setting(selected_model, \"Uni\", \"ignore\")\n",
    "update_constraint_setting(selected_model, \"STU\", \"ignore\")\n",
    "update_constraint_setting(selected_model, \"Higgs\", \"ignore\")\n",
    "update_constraint_setting(selected_model, \"VacStab\", \"skip\")\n",
    "update_constraint_setting(selected_model, \"DM\", \"skip\")"
   ]
  },
  {
   "cell_type": "code",
   "execution_count": 5,
   "metadata": {},
   "outputs": [
    {
     "name": "stdout",
     "output_type": "stream",
     "text": [
      "Updated range for mHb in N2HDMDarkD.ini:\n",
      "[50.0, 1000.0]\n"
     ]
    }
   ],
   "source": [
    "def update_feature_range(model, feature, min_val, max_val):\n",
    "    reader.update_feature_range(model, feature, min_val, max_val)\n",
    "    new_features, _ = reader.read_model(model)\n",
    "    print(f\"Updated range for {feature} in {model}:\")\n",
    "    print(f\"[{new_features[feature]['min']}, {new_features[feature]['max']}]\")\n",
    "\n",
    "# Example: update a feature range\n",
    "update_feature_range(selected_model, \"mHb\", 50, 1000)"
   ]
  },
  {
   "cell_type": "code",
   "execution_count": null,
   "metadata": {},
   "outputs": [],
   "source": []
  }
 ],
 "metadata": {
  "kernelspec": {
   "display_name": "Python 3 (ipykernel)",
   "language": "python",
   "name": "python3"
  },
  "language_info": {
   "codemirror_mode": {
    "name": "ipython",
    "version": 3
   },
   "file_extension": ".py",
   "mimetype": "text/x-python",
   "name": "python",
   "nbconvert_exporter": "python",
   "pygments_lexer": "ipython3",
   "version": "3.10.12"
  }
 },
 "nbformat": 4,
 "nbformat_minor": 4
}
